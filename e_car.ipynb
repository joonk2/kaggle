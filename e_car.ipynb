{
  "nbformat": 4,
  "nbformat_minor": 0,
  "metadata": {
    "colab": {
      "provenance": []
    },
    "kernelspec": {
      "name": "python3",
      "display_name": "Python 3"
    },
    "language_info": {
      "name": "python"
    }
  },
  "cells": [
    {
      "cell_type": "code",
      "source": [
        "import pandas as pd\n",
        "import os\n",
        "base_src = './drive/MyDrive/전기차 분석 2024.02'\n",
        "data = base_src + '/df3.csv'\n",
        "df3 = pd.read_csv(data)\n",
        "df3"
      ],
      "metadata": {
        "id": "sy4eh21rjOaT"
      },
      "execution_count": null,
      "outputs": []
    },
    {
      "cell_type": "markdown",
      "source": [],
      "metadata": {
        "id": "Xk2GkVjBn1iz"
      }
    },
    {
      "cell_type": "markdown",
      "source": [
        "## (시, 군)를 확인하여 많이 굴러다니는 자동차를 찾아서 어떤 모델에 Electric Utility와 연계한 충전소를 늘리면 좋을지 찾자"
      ],
      "metadata": {
        "id": "RVh-Zl8skSCp"
      }
    },
    {
      "cell_type": "code",
      "source": [
        "df3"
      ],
      "metadata": {
        "id": "y0gDBXLzjauh",
        "colab": {
          "base_uri": "https://localhost:8080/",
          "height": 1000
        },
        "outputId": "0caaa57c-20a5-448a-fbd6-7021d0b4d46a"
      },
      "execution_count": null,
      "outputs": [
        {
          "output_type": "execute_result",
          "data": {
            "text/plain": [
              "        VIN (1-10)     County        City State  Postal Code  Model Year  \\\n",
              "0       3C3CFFGE4E     Yakima      Yakima    WA      98902.0        2014   \n",
              "1       5YJXCBE40H   Thurston     Olympia    WA      98513.0        2017   \n",
              "2       3MW39FS03P       King      Renton    WA      98058.0        2023   \n",
              "3       7PDSGABA8P  Snohomish     Bothell    WA      98012.0        2023   \n",
              "4       5YJ3E1EB8L       King        Kent    WA      98031.0        2020   \n",
              "...            ...        ...         ...   ...          ...         ...   \n",
              "166795  3FA6P0SU4D    Spokane     Spokane    WA      99223.0        2013   \n",
              "166796  5YJYGDEE5M       King   Sammamish    WA      98074.0        2021   \n",
              "166797  7SAYGDEE5N  Snohomish    Mukilteo    WA      98275.0        2022   \n",
              "166798  1G1RH6E43D      Lewis   Mossyrock    WA      98564.0        2013   \n",
              "166799  5YJSA1E27H     Pierce  Gig Harbor    WA      98332.0        2017   \n",
              "\n",
              "             Make    Model                   Electric Vehicle Type  \\\n",
              "0            FIAT      500          Battery Electric Vehicle (BEV)   \n",
              "1           TESLA  MODEL X          Battery Electric Vehicle (BEV)   \n",
              "2             BMW     330E  Plug-in Hybrid Electric Vehicle (PHEV)   \n",
              "3          RIVIAN      R1S          Battery Electric Vehicle (BEV)   \n",
              "4           TESLA  MODEL 3          Battery Electric Vehicle (BEV)   \n",
              "...           ...      ...                                     ...   \n",
              "166795       FORD   FUSION  Plug-in Hybrid Electric Vehicle (PHEV)   \n",
              "166796      TESLA  MODEL Y          Battery Electric Vehicle (BEV)   \n",
              "166797      TESLA  MODEL Y          Battery Electric Vehicle (BEV)   \n",
              "166798  CHEVROLET     VOLT  Plug-in Hybrid Electric Vehicle (PHEV)   \n",
              "166799      TESLA  MODEL S          Battery Electric Vehicle (BEV)   \n",
              "\n",
              "        Clean Alternative Fuel Vehicle (CAFV) Eligibility  Electric Range  \\\n",
              "0                 Clean Alternative Fuel Vehicle Eligible              87   \n",
              "1                 Clean Alternative Fuel Vehicle Eligible             200   \n",
              "2                   Not eligible due to low battery range              20   \n",
              "3       Eligibility unknown as battery range has not b...               0   \n",
              "4                 Clean Alternative Fuel Vehicle Eligible             322   \n",
              "...                                                   ...             ...   \n",
              "166795              Not eligible due to low battery range              19   \n",
              "166796  Eligibility unknown as battery range has not b...               0   \n",
              "166797  Eligibility unknown as battery range has not b...               0   \n",
              "166798            Clean Alternative Fuel Vehicle Eligible              38   \n",
              "166799            Clean Alternative Fuel Vehicle Eligible             210   \n",
              "\n",
              "        Base MSRP  Legislative District  DOL Vehicle ID  \\\n",
              "0               0                  14.0         1593721   \n",
              "1               0                   2.0       257167501   \n",
              "2               0                  11.0       224071816   \n",
              "3               0                  21.0       260084653   \n",
              "4               0                  33.0       253771913   \n",
              "...           ...                   ...             ...   \n",
              "166795          0                   6.0       239527123   \n",
              "166796          0                  45.0       148715479   \n",
              "166797          0                  21.0       220504406   \n",
              "166798          0                  20.0       156418475   \n",
              "166799          0                  26.0       169045789   \n",
              "\n",
              "                       Vehicle Location  \\\n",
              "0        POINT (-120.524012 46.5973939)   \n",
              "1          POINT (-122.817545 46.98876)   \n",
              "2       POINT (-122.1298876 47.4451257)   \n",
              "3           POINT (-122.1873 47.820245)   \n",
              "4       POINT (-122.2012521 47.3931814)   \n",
              "...                                 ...   \n",
              "166795     POINT (-117.369705 47.62637)   \n",
              "166796  POINT (-122.0313266 47.6285782)   \n",
              "166797     POINT (-122.299965 47.94171)   \n",
              "166798   POINT (-122.487535 46.5290135)   \n",
              "166799    POINT (-122.589645 47.342345)   \n",
              "\n",
              "                                         Electric Utility  2020 Census Tract  \n",
              "0                                              PACIFICORP       5.307700e+10  \n",
              "1                                  PUGET SOUND ENERGY INC       5.306701e+10  \n",
              "2           PUGET SOUND ENERGY INC||CITY OF TACOMA - (WA)       5.303303e+10  \n",
              "3                                  PUGET SOUND ENERGY INC       5.306105e+10  \n",
              "4           PUGET SOUND ENERGY INC||CITY OF TACOMA - (WA)       5.303303e+10  \n",
              "...                                                   ...                ...  \n",
              "166795  BONNEVILLE POWER ADMINISTRATION||AVISTA CORP||...       5.306300e+10  \n",
              "166796      PUGET SOUND ENERGY INC||CITY OF TACOMA - (WA)       5.303303e+10  \n",
              "166797                             PUGET SOUND ENERGY INC       5.306104e+10  \n",
              "166798  BONNEVILLE POWER ADMINISTRATION||CITY OF TACOM...       5.304197e+10  \n",
              "166799  BONNEVILLE POWER ADMINISTRATION||CITY OF TACOM...       5.305307e+10  \n",
              "\n",
              "[166800 rows x 17 columns]"
            ],
            "text/html": [
              "\n",
              "  <div id=\"df-ebefa440-4fbd-46c4-ab9a-0d02184b9e31\" class=\"colab-df-container\">\n",
              "    <div>\n",
              "<style scoped>\n",
              "    .dataframe tbody tr th:only-of-type {\n",
              "        vertical-align: middle;\n",
              "    }\n",
              "\n",
              "    .dataframe tbody tr th {\n",
              "        vertical-align: top;\n",
              "    }\n",
              "\n",
              "    .dataframe thead th {\n",
              "        text-align: right;\n",
              "    }\n",
              "</style>\n",
              "<table border=\"1\" class=\"dataframe\">\n",
              "  <thead>\n",
              "    <tr style=\"text-align: right;\">\n",
              "      <th></th>\n",
              "      <th>VIN (1-10)</th>\n",
              "      <th>County</th>\n",
              "      <th>City</th>\n",
              "      <th>State</th>\n",
              "      <th>Postal Code</th>\n",
              "      <th>Model Year</th>\n",
              "      <th>Make</th>\n",
              "      <th>Model</th>\n",
              "      <th>Electric Vehicle Type</th>\n",
              "      <th>Clean Alternative Fuel Vehicle (CAFV) Eligibility</th>\n",
              "      <th>Electric Range</th>\n",
              "      <th>Base MSRP</th>\n",
              "      <th>Legislative District</th>\n",
              "      <th>DOL Vehicle ID</th>\n",
              "      <th>Vehicle Location</th>\n",
              "      <th>Electric Utility</th>\n",
              "      <th>2020 Census Tract</th>\n",
              "    </tr>\n",
              "  </thead>\n",
              "  <tbody>\n",
              "    <tr>\n",
              "      <th>0</th>\n",
              "      <td>3C3CFFGE4E</td>\n",
              "      <td>Yakima</td>\n",
              "      <td>Yakima</td>\n",
              "      <td>WA</td>\n",
              "      <td>98902.0</td>\n",
              "      <td>2014</td>\n",
              "      <td>FIAT</td>\n",
              "      <td>500</td>\n",
              "      <td>Battery Electric Vehicle (BEV)</td>\n",
              "      <td>Clean Alternative Fuel Vehicle Eligible</td>\n",
              "      <td>87</td>\n",
              "      <td>0</td>\n",
              "      <td>14.0</td>\n",
              "      <td>1593721</td>\n",
              "      <td>POINT (-120.524012 46.5973939)</td>\n",
              "      <td>PACIFICORP</td>\n",
              "      <td>5.307700e+10</td>\n",
              "    </tr>\n",
              "    <tr>\n",
              "      <th>1</th>\n",
              "      <td>5YJXCBE40H</td>\n",
              "      <td>Thurston</td>\n",
              "      <td>Olympia</td>\n",
              "      <td>WA</td>\n",
              "      <td>98513.0</td>\n",
              "      <td>2017</td>\n",
              "      <td>TESLA</td>\n",
              "      <td>MODEL X</td>\n",
              "      <td>Battery Electric Vehicle (BEV)</td>\n",
              "      <td>Clean Alternative Fuel Vehicle Eligible</td>\n",
              "      <td>200</td>\n",
              "      <td>0</td>\n",
              "      <td>2.0</td>\n",
              "      <td>257167501</td>\n",
              "      <td>POINT (-122.817545 46.98876)</td>\n",
              "      <td>PUGET SOUND ENERGY INC</td>\n",
              "      <td>5.306701e+10</td>\n",
              "    </tr>\n",
              "    <tr>\n",
              "      <th>2</th>\n",
              "      <td>3MW39FS03P</td>\n",
              "      <td>King</td>\n",
              "      <td>Renton</td>\n",
              "      <td>WA</td>\n",
              "      <td>98058.0</td>\n",
              "      <td>2023</td>\n",
              "      <td>BMW</td>\n",
              "      <td>330E</td>\n",
              "      <td>Plug-in Hybrid Electric Vehicle (PHEV)</td>\n",
              "      <td>Not eligible due to low battery range</td>\n",
              "      <td>20</td>\n",
              "      <td>0</td>\n",
              "      <td>11.0</td>\n",
              "      <td>224071816</td>\n",
              "      <td>POINT (-122.1298876 47.4451257)</td>\n",
              "      <td>PUGET SOUND ENERGY INC||CITY OF TACOMA - (WA)</td>\n",
              "      <td>5.303303e+10</td>\n",
              "    </tr>\n",
              "    <tr>\n",
              "      <th>3</th>\n",
              "      <td>7PDSGABA8P</td>\n",
              "      <td>Snohomish</td>\n",
              "      <td>Bothell</td>\n",
              "      <td>WA</td>\n",
              "      <td>98012.0</td>\n",
              "      <td>2023</td>\n",
              "      <td>RIVIAN</td>\n",
              "      <td>R1S</td>\n",
              "      <td>Battery Electric Vehicle (BEV)</td>\n",
              "      <td>Eligibility unknown as battery range has not b...</td>\n",
              "      <td>0</td>\n",
              "      <td>0</td>\n",
              "      <td>21.0</td>\n",
              "      <td>260084653</td>\n",
              "      <td>POINT (-122.1873 47.820245)</td>\n",
              "      <td>PUGET SOUND ENERGY INC</td>\n",
              "      <td>5.306105e+10</td>\n",
              "    </tr>\n",
              "    <tr>\n",
              "      <th>4</th>\n",
              "      <td>5YJ3E1EB8L</td>\n",
              "      <td>King</td>\n",
              "      <td>Kent</td>\n",
              "      <td>WA</td>\n",
              "      <td>98031.0</td>\n",
              "      <td>2020</td>\n",
              "      <td>TESLA</td>\n",
              "      <td>MODEL 3</td>\n",
              "      <td>Battery Electric Vehicle (BEV)</td>\n",
              "      <td>Clean Alternative Fuel Vehicle Eligible</td>\n",
              "      <td>322</td>\n",
              "      <td>0</td>\n",
              "      <td>33.0</td>\n",
              "      <td>253771913</td>\n",
              "      <td>POINT (-122.2012521 47.3931814)</td>\n",
              "      <td>PUGET SOUND ENERGY INC||CITY OF TACOMA - (WA)</td>\n",
              "      <td>5.303303e+10</td>\n",
              "    </tr>\n",
              "    <tr>\n",
              "      <th>...</th>\n",
              "      <td>...</td>\n",
              "      <td>...</td>\n",
              "      <td>...</td>\n",
              "      <td>...</td>\n",
              "      <td>...</td>\n",
              "      <td>...</td>\n",
              "      <td>...</td>\n",
              "      <td>...</td>\n",
              "      <td>...</td>\n",
              "      <td>...</td>\n",
              "      <td>...</td>\n",
              "      <td>...</td>\n",
              "      <td>...</td>\n",
              "      <td>...</td>\n",
              "      <td>...</td>\n",
              "      <td>...</td>\n",
              "      <td>...</td>\n",
              "    </tr>\n",
              "    <tr>\n",
              "      <th>166795</th>\n",
              "      <td>3FA6P0SU4D</td>\n",
              "      <td>Spokane</td>\n",
              "      <td>Spokane</td>\n",
              "      <td>WA</td>\n",
              "      <td>99223.0</td>\n",
              "      <td>2013</td>\n",
              "      <td>FORD</td>\n",
              "      <td>FUSION</td>\n",
              "      <td>Plug-in Hybrid Electric Vehicle (PHEV)</td>\n",
              "      <td>Not eligible due to low battery range</td>\n",
              "      <td>19</td>\n",
              "      <td>0</td>\n",
              "      <td>6.0</td>\n",
              "      <td>239527123</td>\n",
              "      <td>POINT (-117.369705 47.62637)</td>\n",
              "      <td>BONNEVILLE POWER ADMINISTRATION||AVISTA CORP||...</td>\n",
              "      <td>5.306300e+10</td>\n",
              "    </tr>\n",
              "    <tr>\n",
              "      <th>166796</th>\n",
              "      <td>5YJYGDEE5M</td>\n",
              "      <td>King</td>\n",
              "      <td>Sammamish</td>\n",
              "      <td>WA</td>\n",
              "      <td>98074.0</td>\n",
              "      <td>2021</td>\n",
              "      <td>TESLA</td>\n",
              "      <td>MODEL Y</td>\n",
              "      <td>Battery Electric Vehicle (BEV)</td>\n",
              "      <td>Eligibility unknown as battery range has not b...</td>\n",
              "      <td>0</td>\n",
              "      <td>0</td>\n",
              "      <td>45.0</td>\n",
              "      <td>148715479</td>\n",
              "      <td>POINT (-122.0313266 47.6285782)</td>\n",
              "      <td>PUGET SOUND ENERGY INC||CITY OF TACOMA - (WA)</td>\n",
              "      <td>5.303303e+10</td>\n",
              "    </tr>\n",
              "    <tr>\n",
              "      <th>166797</th>\n",
              "      <td>7SAYGDEE5N</td>\n",
              "      <td>Snohomish</td>\n",
              "      <td>Mukilteo</td>\n",
              "      <td>WA</td>\n",
              "      <td>98275.0</td>\n",
              "      <td>2022</td>\n",
              "      <td>TESLA</td>\n",
              "      <td>MODEL Y</td>\n",
              "      <td>Battery Electric Vehicle (BEV)</td>\n",
              "      <td>Eligibility unknown as battery range has not b...</td>\n",
              "      <td>0</td>\n",
              "      <td>0</td>\n",
              "      <td>21.0</td>\n",
              "      <td>220504406</td>\n",
              "      <td>POINT (-122.299965 47.94171)</td>\n",
              "      <td>PUGET SOUND ENERGY INC</td>\n",
              "      <td>5.306104e+10</td>\n",
              "    </tr>\n",
              "    <tr>\n",
              "      <th>166798</th>\n",
              "      <td>1G1RH6E43D</td>\n",
              "      <td>Lewis</td>\n",
              "      <td>Mossyrock</td>\n",
              "      <td>WA</td>\n",
              "      <td>98564.0</td>\n",
              "      <td>2013</td>\n",
              "      <td>CHEVROLET</td>\n",
              "      <td>VOLT</td>\n",
              "      <td>Plug-in Hybrid Electric Vehicle (PHEV)</td>\n",
              "      <td>Clean Alternative Fuel Vehicle Eligible</td>\n",
              "      <td>38</td>\n",
              "      <td>0</td>\n",
              "      <td>20.0</td>\n",
              "      <td>156418475</td>\n",
              "      <td>POINT (-122.487535 46.5290135)</td>\n",
              "      <td>BONNEVILLE POWER ADMINISTRATION||CITY OF TACOM...</td>\n",
              "      <td>5.304197e+10</td>\n",
              "    </tr>\n",
              "    <tr>\n",
              "      <th>166799</th>\n",
              "      <td>5YJSA1E27H</td>\n",
              "      <td>Pierce</td>\n",
              "      <td>Gig Harbor</td>\n",
              "      <td>WA</td>\n",
              "      <td>98332.0</td>\n",
              "      <td>2017</td>\n",
              "      <td>TESLA</td>\n",
              "      <td>MODEL S</td>\n",
              "      <td>Battery Electric Vehicle (BEV)</td>\n",
              "      <td>Clean Alternative Fuel Vehicle Eligible</td>\n",
              "      <td>210</td>\n",
              "      <td>0</td>\n",
              "      <td>26.0</td>\n",
              "      <td>169045789</td>\n",
              "      <td>POINT (-122.589645 47.342345)</td>\n",
              "      <td>BONNEVILLE POWER ADMINISTRATION||CITY OF TACOM...</td>\n",
              "      <td>5.305307e+10</td>\n",
              "    </tr>\n",
              "  </tbody>\n",
              "</table>\n",
              "<p>166800 rows × 17 columns</p>\n",
              "</div>\n",
              "    <div class=\"colab-df-buttons\">\n",
              "\n",
              "  <div class=\"colab-df-container\">\n",
              "    <button class=\"colab-df-convert\" onclick=\"convertToInteractive('df-ebefa440-4fbd-46c4-ab9a-0d02184b9e31')\"\n",
              "            title=\"Convert this dataframe to an interactive table.\"\n",
              "            style=\"display:none;\">\n",
              "\n",
              "  <svg xmlns=\"http://www.w3.org/2000/svg\" height=\"24px\" viewBox=\"0 -960 960 960\">\n",
              "    <path d=\"M120-120v-720h720v720H120Zm60-500h600v-160H180v160Zm220 220h160v-160H400v160Zm0 220h160v-160H400v160ZM180-400h160v-160H180v160Zm440 0h160v-160H620v160ZM180-180h160v-160H180v160Zm440 0h160v-160H620v160Z\"/>\n",
              "  </svg>\n",
              "    </button>\n",
              "\n",
              "  <style>\n",
              "    .colab-df-container {\n",
              "      display:flex;\n",
              "      gap: 12px;\n",
              "    }\n",
              "\n",
              "    .colab-df-convert {\n",
              "      background-color: #E8F0FE;\n",
              "      border: none;\n",
              "      border-radius: 50%;\n",
              "      cursor: pointer;\n",
              "      display: none;\n",
              "      fill: #1967D2;\n",
              "      height: 32px;\n",
              "      padding: 0 0 0 0;\n",
              "      width: 32px;\n",
              "    }\n",
              "\n",
              "    .colab-df-convert:hover {\n",
              "      background-color: #E2EBFA;\n",
              "      box-shadow: 0px 1px 2px rgba(60, 64, 67, 0.3), 0px 1px 3px 1px rgba(60, 64, 67, 0.15);\n",
              "      fill: #174EA6;\n",
              "    }\n",
              "\n",
              "    .colab-df-buttons div {\n",
              "      margin-bottom: 4px;\n",
              "    }\n",
              "\n",
              "    [theme=dark] .colab-df-convert {\n",
              "      background-color: #3B4455;\n",
              "      fill: #D2E3FC;\n",
              "    }\n",
              "\n",
              "    [theme=dark] .colab-df-convert:hover {\n",
              "      background-color: #434B5C;\n",
              "      box-shadow: 0px 1px 3px 1px rgba(0, 0, 0, 0.15);\n",
              "      filter: drop-shadow(0px 1px 2px rgba(0, 0, 0, 0.3));\n",
              "      fill: #FFFFFF;\n",
              "    }\n",
              "  </style>\n",
              "\n",
              "    <script>\n",
              "      const buttonEl =\n",
              "        document.querySelector('#df-ebefa440-4fbd-46c4-ab9a-0d02184b9e31 button.colab-df-convert');\n",
              "      buttonEl.style.display =\n",
              "        google.colab.kernel.accessAllowed ? 'block' : 'none';\n",
              "\n",
              "      async function convertToInteractive(key) {\n",
              "        const element = document.querySelector('#df-ebefa440-4fbd-46c4-ab9a-0d02184b9e31');\n",
              "        const dataTable =\n",
              "          await google.colab.kernel.invokeFunction('convertToInteractive',\n",
              "                                                    [key], {});\n",
              "        if (!dataTable) return;\n",
              "\n",
              "        const docLinkHtml = 'Like what you see? Visit the ' +\n",
              "          '<a target=\"_blank\" href=https://colab.research.google.com/notebooks/data_table.ipynb>data table notebook</a>'\n",
              "          + ' to learn more about interactive tables.';\n",
              "        element.innerHTML = '';\n",
              "        dataTable['output_type'] = 'display_data';\n",
              "        await google.colab.output.renderOutput(dataTable, element);\n",
              "        const docLink = document.createElement('div');\n",
              "        docLink.innerHTML = docLinkHtml;\n",
              "        element.appendChild(docLink);\n",
              "      }\n",
              "    </script>\n",
              "  </div>\n",
              "\n",
              "\n",
              "<div id=\"df-0c135e5e-28b4-438f-a371-bafa5602c8e1\">\n",
              "  <button class=\"colab-df-quickchart\" onclick=\"quickchart('df-0c135e5e-28b4-438f-a371-bafa5602c8e1')\"\n",
              "            title=\"Suggest charts\"\n",
              "            style=\"display:none;\">\n",
              "\n",
              "<svg xmlns=\"http://www.w3.org/2000/svg\" height=\"24px\"viewBox=\"0 0 24 24\"\n",
              "     width=\"24px\">\n",
              "    <g>\n",
              "        <path d=\"M19 3H5c-1.1 0-2 .9-2 2v14c0 1.1.9 2 2 2h14c1.1 0 2-.9 2-2V5c0-1.1-.9-2-2-2zM9 17H7v-7h2v7zm4 0h-2V7h2v10zm4 0h-2v-4h2v4z\"/>\n",
              "    </g>\n",
              "</svg>\n",
              "  </button>\n",
              "\n",
              "<style>\n",
              "  .colab-df-quickchart {\n",
              "      --bg-color: #E8F0FE;\n",
              "      --fill-color: #1967D2;\n",
              "      --hover-bg-color: #E2EBFA;\n",
              "      --hover-fill-color: #174EA6;\n",
              "      --disabled-fill-color: #AAA;\n",
              "      --disabled-bg-color: #DDD;\n",
              "  }\n",
              "\n",
              "  [theme=dark] .colab-df-quickchart {\n",
              "      --bg-color: #3B4455;\n",
              "      --fill-color: #D2E3FC;\n",
              "      --hover-bg-color: #434B5C;\n",
              "      --hover-fill-color: #FFFFFF;\n",
              "      --disabled-bg-color: #3B4455;\n",
              "      --disabled-fill-color: #666;\n",
              "  }\n",
              "\n",
              "  .colab-df-quickchart {\n",
              "    background-color: var(--bg-color);\n",
              "    border: none;\n",
              "    border-radius: 50%;\n",
              "    cursor: pointer;\n",
              "    display: none;\n",
              "    fill: var(--fill-color);\n",
              "    height: 32px;\n",
              "    padding: 0;\n",
              "    width: 32px;\n",
              "  }\n",
              "\n",
              "  .colab-df-quickchart:hover {\n",
              "    background-color: var(--hover-bg-color);\n",
              "    box-shadow: 0 1px 2px rgba(60, 64, 67, 0.3), 0 1px 3px 1px rgba(60, 64, 67, 0.15);\n",
              "    fill: var(--button-hover-fill-color);\n",
              "  }\n",
              "\n",
              "  .colab-df-quickchart-complete:disabled,\n",
              "  .colab-df-quickchart-complete:disabled:hover {\n",
              "    background-color: var(--disabled-bg-color);\n",
              "    fill: var(--disabled-fill-color);\n",
              "    box-shadow: none;\n",
              "  }\n",
              "\n",
              "  .colab-df-spinner {\n",
              "    border: 2px solid var(--fill-color);\n",
              "    border-color: transparent;\n",
              "    border-bottom-color: var(--fill-color);\n",
              "    animation:\n",
              "      spin 1s steps(1) infinite;\n",
              "  }\n",
              "\n",
              "  @keyframes spin {\n",
              "    0% {\n",
              "      border-color: transparent;\n",
              "      border-bottom-color: var(--fill-color);\n",
              "      border-left-color: var(--fill-color);\n",
              "    }\n",
              "    20% {\n",
              "      border-color: transparent;\n",
              "      border-left-color: var(--fill-color);\n",
              "      border-top-color: var(--fill-color);\n",
              "    }\n",
              "    30% {\n",
              "      border-color: transparent;\n",
              "      border-left-color: var(--fill-color);\n",
              "      border-top-color: var(--fill-color);\n",
              "      border-right-color: var(--fill-color);\n",
              "    }\n",
              "    40% {\n",
              "      border-color: transparent;\n",
              "      border-right-color: var(--fill-color);\n",
              "      border-top-color: var(--fill-color);\n",
              "    }\n",
              "    60% {\n",
              "      border-color: transparent;\n",
              "      border-right-color: var(--fill-color);\n",
              "    }\n",
              "    80% {\n",
              "      border-color: transparent;\n",
              "      border-right-color: var(--fill-color);\n",
              "      border-bottom-color: var(--fill-color);\n",
              "    }\n",
              "    90% {\n",
              "      border-color: transparent;\n",
              "      border-bottom-color: var(--fill-color);\n",
              "    }\n",
              "  }\n",
              "</style>\n",
              "\n",
              "  <script>\n",
              "    async function quickchart(key) {\n",
              "      const quickchartButtonEl =\n",
              "        document.querySelector('#' + key + ' button');\n",
              "      quickchartButtonEl.disabled = true;  // To prevent multiple clicks.\n",
              "      quickchartButtonEl.classList.add('colab-df-spinner');\n",
              "      try {\n",
              "        const charts = await google.colab.kernel.invokeFunction(\n",
              "            'suggestCharts', [key], {});\n",
              "      } catch (error) {\n",
              "        console.error('Error during call to suggestCharts:', error);\n",
              "      }\n",
              "      quickchartButtonEl.classList.remove('colab-df-spinner');\n",
              "      quickchartButtonEl.classList.add('colab-df-quickchart-complete');\n",
              "    }\n",
              "    (() => {\n",
              "      let quickchartButtonEl =\n",
              "        document.querySelector('#df-0c135e5e-28b4-438f-a371-bafa5602c8e1 button');\n",
              "      quickchartButtonEl.style.display =\n",
              "        google.colab.kernel.accessAllowed ? 'block' : 'none';\n",
              "    })();\n",
              "  </script>\n",
              "</div>\n",
              "\n",
              "  <div id=\"id_0f2b6a70-67c2-410f-990f-1a3dcdab4ad3\">\n",
              "    <style>\n",
              "      .colab-df-generate {\n",
              "        background-color: #E8F0FE;\n",
              "        border: none;\n",
              "        border-radius: 50%;\n",
              "        cursor: pointer;\n",
              "        display: none;\n",
              "        fill: #1967D2;\n",
              "        height: 32px;\n",
              "        padding: 0 0 0 0;\n",
              "        width: 32px;\n",
              "      }\n",
              "\n",
              "      .colab-df-generate:hover {\n",
              "        background-color: #E2EBFA;\n",
              "        box-shadow: 0px 1px 2px rgba(60, 64, 67, 0.3), 0px 1px 3px 1px rgba(60, 64, 67, 0.15);\n",
              "        fill: #174EA6;\n",
              "      }\n",
              "\n",
              "      [theme=dark] .colab-df-generate {\n",
              "        background-color: #3B4455;\n",
              "        fill: #D2E3FC;\n",
              "      }\n",
              "\n",
              "      [theme=dark] .colab-df-generate:hover {\n",
              "        background-color: #434B5C;\n",
              "        box-shadow: 0px 1px 3px 1px rgba(0, 0, 0, 0.15);\n",
              "        filter: drop-shadow(0px 1px 2px rgba(0, 0, 0, 0.3));\n",
              "        fill: #FFFFFF;\n",
              "      }\n",
              "    </style>\n",
              "    <button class=\"colab-df-generate\" onclick=\"generateWithVariable('df3')\"\n",
              "            title=\"Generate code using this dataframe.\"\n",
              "            style=\"display:none;\">\n",
              "\n",
              "  <svg xmlns=\"http://www.w3.org/2000/svg\" height=\"24px\"viewBox=\"0 0 24 24\"\n",
              "       width=\"24px\">\n",
              "    <path d=\"M7,19H8.4L18.45,9,17,7.55,7,17.6ZM5,21V16.75L18.45,3.32a2,2,0,0,1,2.83,0l1.4,1.43a1.91,1.91,0,0,1,.58,1.4,1.91,1.91,0,0,1-.58,1.4L9.25,21ZM18.45,9,17,7.55Zm-12,3A5.31,5.31,0,0,0,4.9,8.1,5.31,5.31,0,0,0,1,6.5,5.31,5.31,0,0,0,4.9,4.9,5.31,5.31,0,0,0,6.5,1,5.31,5.31,0,0,0,8.1,4.9,5.31,5.31,0,0,0,12,6.5,5.46,5.46,0,0,0,6.5,12Z\"/>\n",
              "  </svg>\n",
              "    </button>\n",
              "    <script>\n",
              "      (() => {\n",
              "      const buttonEl =\n",
              "        document.querySelector('#id_0f2b6a70-67c2-410f-990f-1a3dcdab4ad3 button.colab-df-generate');\n",
              "      buttonEl.style.display =\n",
              "        google.colab.kernel.accessAllowed ? 'block' : 'none';\n",
              "\n",
              "      buttonEl.onclick = () => {\n",
              "        google.colab.notebook.generateWithVariable('df3');\n",
              "      }\n",
              "      })();\n",
              "    </script>\n",
              "  </div>\n",
              "\n",
              "    </div>\n",
              "  </div>\n"
            ]
          },
          "metadata": {},
          "execution_count": 24
        }
      ]
    },
    {
      "cell_type": "code",
      "source": [
        "# 필요한 컬럼\n",
        "1. County\n",
        "2. City\n",
        "3. Model Year\n",
        "4. Model\n",
        "5. Make"
      ],
      "metadata": {
        "id": "Q8FKBOcgmzRx"
      },
      "execution_count": null,
      "outputs": []
    },
    {
      "cell_type": "code",
      "source": [
        "df3['City'].value_counts()\n",
        "# Seattle      27831\n",
        "# Bellevue      8364\n",
        "# Redmond       6032\n",
        "# Vancouver     5869\n",
        "# Bothell       5440"
      ],
      "metadata": {
        "id": "HzVGnT-upl94"
      },
      "execution_count": null,
      "outputs": []
    },
    {
      "cell_type": "code",
      "source": [
        "df3['County'].value_counts()\n",
        "# King          86594\n",
        "# Snohomish     19570\n",
        "# Pierce        12972\n",
        "# Clark          9847\n",
        "# Thurston       6042"
      ],
      "metadata": {
        "id": "gnjYPSOxMTZ5"
      },
      "execution_count": null,
      "outputs": []
    },
    {
      "cell_type": "code",
      "source": [
        "cond = (df3['City']== 'Seattle') & (df3['County'] == 'King')\n",
        "cond"
      ],
      "metadata": {
        "id": "K_iEMHhiJs-1"
      },
      "execution_count": null,
      "outputs": []
    },
    {
      "cell_type": "code",
      "source": [
        "df4 = df3[cond]\n",
        "df4.shape\n",
        "# 27831 rows × 17 columns"
      ],
      "metadata": {
        "id": "uhtgrHp_K9et"
      },
      "execution_count": null,
      "outputs": []
    },
    {
      "cell_type": "markdown",
      "source": [
        "## 시에틀, '킹'군에서 어떤종류의 차가 제일 많이 굴러다니고 어떤 설비를 설치하면 되겠냐?"
      ],
      "metadata": {
        "id": "e0l0GwQhLadD"
      }
    },
    {
      "cell_type": "code",
      "source": [
        "df4['Make'].value_counts()\n",
        "# TESLA             11163\n",
        "# NISSAN             2723\n",
        "# CHEVROLET          2154"
      ],
      "metadata": {
        "id": "l34QzUGcLIXV"
      },
      "execution_count": null,
      "outputs": []
    },
    {
      "cell_type": "code",
      "source": [
        "cond_Tesla = (df4['Make'] == 'TESLA')\n",
        "df4 = df4[cond_Tesla]\n",
        "df4\n",
        "# 11163 rows × 17 columns"
      ],
      "metadata": {
        "id": "PzTDu-r1MOT7"
      },
      "execution_count": null,
      "outputs": []
    },
    {
      "cell_type": "markdown",
      "source": [
        "## TESLA가 제일 많네 --> 이제 차종류 찾고 어떤 종류의 충전소가 많이 필요할지 보자"
      ],
      "metadata": {
        "id": "nAiMfix4NNYy"
      }
    },
    {
      "cell_type": "code",
      "source": [
        "df4['Model'].value_counts()\n",
        "# MODEL 3     4869\n",
        "# MODEL Y     4630"
      ],
      "metadata": {
        "id": "p_-kVe4oNJ4k"
      },
      "execution_count": null,
      "outputs": []
    },
    {
      "cell_type": "code",
      "source": [
        "cond_Model = (df4['Model'] == 'MODEL 3') | (df4['Model'] == 'MODEL Y')\n",
        "df4 = df4[cond_Model]\n",
        "df4\n",
        "# 9499 rows x 17 columns"
      ],
      "metadata": {
        "id": "orp_7yYyO2Gh"
      },
      "execution_count": null,
      "outputs": []
    },
    {
      "cell_type": "code",
      "source": [
        "df4['Electric Vehicle Type'].value_counts()\n",
        "# Battery Electric Vehicle (BEV)    9499"
      ],
      "metadata": {
        "id": "VN46TFmRPQrj"
      },
      "execution_count": null,
      "outputs": []
    },
    {
      "cell_type": "code",
      "source": [
        "df4['Electric Utility'].value_counts()\n",
        "# CITY OF SEATTLE - (WA)|CITY OF TACOMA - (WA)     9089\n",
        "# PUGET SOUND ENERGY INC||CITY OF TACOMA - (WA)     407"
      ],
      "metadata": {
        "id": "WvjHT1-5PxYp"
      },
      "execution_count": null,
      "outputs": []
    },
    {
      "cell_type": "code",
      "source": [
        "df4['Postal Code'].value_counts()"
      ],
      "metadata": {
        "colab": {
          "base_uri": "https://localhost:8080/"
        },
        "id": "LNllE7qnQjko",
        "outputId": "91896630-4a2b-4787-b0a1-d07cf4ab44d4"
      },
      "execution_count": 44,
      "outputs": [
        {
          "output_type": "execute_result",
          "data": {
            "text/plain": [
              "98115.0    819\n",
              "98109.0    687\n",
              "98103.0    631\n",
              "98121.0    468\n",
              "98117.0    467\n",
              "98118.0    462\n",
              "98112.0    444\n",
              "98122.0    439\n",
              "98125.0    425\n",
              "98105.0    405\n",
              "98199.0    393\n",
              "98107.0    367\n",
              "98144.0    363\n",
              "98116.0    342\n",
              "98119.0    341\n",
              "98101.0    322\n",
              "98102.0    271\n",
              "98126.0    270\n",
              "98106.0    233\n",
              "98136.0    208\n",
              "98134.0    207\n",
              "98178.0    201\n",
              "98108.0    188\n",
              "98133.0    187\n",
              "98177.0    121\n",
              "98146.0    102\n",
              "98104.0     99\n",
              "98168.0     29\n",
              "98055.0      4\n",
              "98155.0      3\n",
              "98164.0      1\n",
              "Name: Postal Code, dtype: int64"
            ]
          },
          "metadata": {},
          "execution_count": 44
        }
      ]
    },
    {
      "cell_type": "code",
      "source": [
        "df4['Model Year'].value_counts()"
      ],
      "metadata": {
        "colab": {
          "base_uri": "https://localhost:8080/"
        },
        "id": "iJozlVnTcpA7",
        "outputId": "d02f82d9-fdf8-4427-d310-3bcb360606b6"
      },
      "execution_count": 46,
      "outputs": [
        {
          "output_type": "execute_result",
          "data": {
            "text/plain": [
              "2023    3059\n",
              "2022    1826\n",
              "2021    1782\n",
              "2018    1103\n",
              "2020    1085\n",
              "2019     630\n",
              "2017      14\n",
              "Name: Model Year, dtype: int64"
            ]
          },
          "metadata": {},
          "execution_count": 46
        }
      ]
    },
    {
      "cell_type": "code",
      "source": [
        "# ---------------------- 기본 세팅----------------------------\n",
        "import numpy as np\n",
        "import pandas as pd\n",
        "import matplotlib.pyplot as plt\n",
        "import seaborn as sns\n",
        "import warnings # 경고 무시\n",
        "\n",
        "# 시각화 그려줄 테마\n",
        "plt.rcParams['figure.figsize'] = [5, 4] # 얼만큼 크게 나타나게 할지? --> 가로:10, 세로:8\n",
        "sns.set(style='whitegrid')\n",
        "sns.set_palette('pastel')\n",
        "warnings.filterwarnings('ignore')"
      ],
      "metadata": {
        "id": "iEfV_mXbc9vz"
      },
      "execution_count": 47,
      "outputs": []
    },
    {
      "cell_type": "code",
      "source": [
        "# --------------------보기좋으라고 잠깐 14개짜리 제거함 ---------------------------------------\n",
        "pie_Y = (df4['Model Year'] != 2017)\n",
        "filtered_df = df4[pie_Y]\n",
        "filtered_df['Model Year'].value_counts()"
      ],
      "metadata": {
        "colab": {
          "base_uri": "https://localhost:8080/"
        },
        "id": "A9yZgtkcleWF",
        "outputId": "8ec735fe-6b23-40d9-86ca-5525c9dd1ce9"
      },
      "execution_count": 70,
      "outputs": [
        {
          "output_type": "execute_result",
          "data": {
            "text/plain": [
              "2023    3059\n",
              "2022    1826\n",
              "2021    1782\n",
              "2018    1103\n",
              "2020    1085\n",
              "2019     630\n",
              "Name: Model Year, dtype: int64"
            ]
          },
          "metadata": {},
          "execution_count": 70
        }
      ]
    },
    {
      "cell_type": "code",
      "source": [
        "pie_Y = filtered_df['Model Year'].value_counts()\n",
        "pie_Y\n",
        "\n",
        "x_label = ['2023', '2022', '2021', '2018', '2020', '2019']\n",
        "plt.pie(pie_Y,\n",
        "        labels=x_label,\n",
        "        autopct = '%.3f%%',\n",
        "        startangle = 90,# 90도 부터 시작\n",
        "        counterclock = False,# 시계 반대방향 False\n",
        "        explode = [0.1, 0.1, 0.1, 0.1, 0.1, 0.1],# 파이 거리\n",
        "        shadow = True,\n",
        "        colors = ['#ff9999', '#ffc000', '#8fd9b6', '#d395d0', '#0099cc', '#808080'],\n",
        "        wedgeprops = {'width':0.7 , 'edgecolor':'w' , 'linewidth':3}) # pie 차트를 도넛모양으로 고른다면 wedgeprops 쓰자\n",
        "plt.show()"
      ],
      "metadata": {
        "colab": {
          "base_uri": "https://localhost:8080/",
          "height": 345
        },
        "id": "oFfp7_jejj6j",
        "outputId": "7a79fd85-28ce-4f58-a840-471f185f241b"
      },
      "execution_count": 73,
      "outputs": [
        {
          "output_type": "display_data",
          "data": {
            "text/plain": [
              "<Figure size 500x400 with 1 Axes>"
            ],
            "image/png": "[encoded data removed]"
          },
          "metadata": {}
        }
      ]
    },
    {
      "cell_type": "code",
      "source": [
        "plt.bar(df4['Model Year'], df4['Postal Code'],\n",
        "        color = 'pink',\n",
        "        alpha = 0.6,\n",
        "        width = 0.4)\n",
        "plt.title('Sum of Tip By Days')\n",
        "plt.xlabel('Days', fontsize = 14)\n",
        "plt.ylabel('Sum of tips', fontsize = 14)\n",
        "plt.xticks(\n",
        "           df4['Model Year'],\n",
        "           rotation = 45,\n",
        "           fontsize = 15)\n",
        "plt.show()"
      ],
      "metadata": {
        "id": "7nn6WMwnhMg0"
      },
      "execution_count": null,
      "outputs": []
    },
    {
      "cell_type": "code",
      "source": [
        "cols = ['County', 'City', 'Model Year\t', 'Make', 'Model']"
      ],
      "metadata": {
        "id": "9GLTORwcmVks"
      },
      "execution_count": null,
      "outputs": []
    },
    {
      "cell_type": "code",
      "source": [
        "sorted = df3['Electric Vehicle Type'].groupby()"
      ],
      "metadata": {
        "colab": {
          "base_uri": "https://localhost:8080/"
        },
        "id": "TKA7UIhhojMm",
        "outputId": "781b80e3-c20d-4f17-f53f-8309b4873911"
      },
      "execution_count": null,
      "outputs": [
        {
          "output_type": "execute_result",
          "data": {
            "text/plain": [
              "Battery Electric Vehicle (BEV)            130293\n",
              "Plug-in Hybrid Electric Vehicle (PHEV)     36507\n",
              "Name: Electric Vehicle Type, dtype: int64"
            ]
          },
          "metadata": {},
          "execution_count": 239
        }
      ]
    },
    {
      "cell_type": "code",
      "source": [
        "# -----------------------------------------------------------"
      ],
      "metadata": {
        "id": "f5oXmm2OjMy-"
      },
      "execution_count": null,
      "outputs": []
    },
    {
      "cell_type": "code",
      "source": [
        "# 최빈값으로 결측치 채우기 ==> 엄청난 중복치 생성\n",
        "a = df2['County'].mode()[0]\n",
        "b = df2['City'].mode()[0]\n",
        "c = df2['Postal Code'].mode()[0]\n",
        "d = df2['Legislative District'].mode()[0]\n",
        "e = df2['Vehicle Location'].mode()[0]\n",
        "f = df2['Electric Utility'].mode()[0]\n",
        "g = df2['2020 Census Tract'].mode()[0]\n",
        "\n",
        "df2['County'] = df2['County'].fillna(a)\n",
        "df2['City'] = df2['City'].fillna(b)\n",
        "df2['Postal Code'] = df2['Postal Code'].fillna(c)\n",
        "df2['Legislative District'] = df2['Legislative District'].fillna(d)\n",
        "df2['Vehicle Location'] = df2['Vehicle Location'].fillna(e)\n",
        "df2['Electric Utility'] = df2['Electric Utility'].fillna(f)\n",
        "df2['2020 Census Tract'] = df2['2020 Census Tract'].fillna(g)\n",
        "df2.isnull().sum()"
      ],
      "metadata": {
        "colab": {
          "base_uri": "https://localhost:8080/"
        },
        "id": "CairiTDltoTt",
        "outputId": "14585e20-af91-4684-8773-e1527dd8ac4e"
      },
      "execution_count": null,
      "outputs": [
        {
          "output_type": "execute_result",
          "data": {
            "text/plain": [
              "County                   0\n",
              "City                     0\n",
              "State                    0\n",
              "Postal Code              0\n",
              "Make                     0\n",
              "Model                    0\n",
              "Electric Vehicle Type    0\n",
              "Legislative District     0\n",
              "Vehicle Location         0\n",
              "Electric Utility         0\n",
              "2020 Census Tract        0\n",
              "dtype: int64"
            ]
          },
          "metadata": {},
          "execution_count": 218
        }
      ]
    },
    {
      "cell_type": "code",
      "source": [
        "from sklearn.model_selection import train_test_split\n",
        "train, test = train_test_split(df2, test_size=0.2, random_state=2024, shuffle = True)\n",
        "train.shape, test.shape"
      ],
      "metadata": {
        "colab": {
          "base_uri": "https://localhost:8080/"
        },
        "id": "fCOlB-u3zkQd",
        "outputId": "b2942c98-c9dc-47c0-a7be-062ce76071ee"
      },
      "execution_count": null,
      "outputs": [
        {
          "output_type": "execute_result",
          "data": {
            "text/plain": [
              "((133440, 6), (33360, 6))"
            ]
          },
          "metadata": {},
          "execution_count": 198
        }
      ]
    },
    {
      "cell_type": "code",
      "source": [
        "target = train.pop('Vehicle Location')\n",
        "test.drop(['Vehicle Location'], axis = 1, inplace = True)"
      ],
      "metadata": {
        "id": "5jYWKqyd2-n1"
      },
      "execution_count": null,
      "outputs": []
    },
    {
      "cell_type": "code",
      "source": [
        "train.to_csv('train.csv', index=False)\n",
        "test.to_csv('test.csv', index=False)"
      ],
      "metadata": {
        "id": "t_cpAAkB0OfI"
      },
      "execution_count": null,
      "outputs": []
    },
    {
      "cell_type": "code",
      "source": [
        "base_src = './drive/MyDrive/전기차 분석 2024.02'\n",
        "tr = base_src + '/train.csv'\n",
        "tt = base_src + '/test.csv'\n",
        "\n",
        "train = pd.read_csv(tr)\n",
        "test = pd.read_csv(tt)"
      ],
      "metadata": {
        "id": "h1PHE81D0hW2"
      },
      "execution_count": null,
      "outputs": []
    },
    {
      "cell_type": "code",
      "source": [
        "# 빈도가 1인 값을 찾음\n",
        "min_frequency_values = target.value_counts()[target.value_counts() == 1].index\n",
        "\n",
        "# 해당 값들의 인덱스를 2로 바꿈\n",
        "target = target.replace(min_frequency_values, 2)"
      ],
      "metadata": {
        "id": "aYghFhdRBcFG"
      },
      "execution_count": null,
      "outputs": []
    }
  ]
}
